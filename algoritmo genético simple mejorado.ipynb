{
 "cells": [
  {
   "cell_type": "code",
   "execution_count": 40,
   "metadata": {},
   "outputs": [],
   "source": [
    "#algorimto genetico\n",
    "import random"
   ]
  },
  {
   "cell_type": "code",
   "execution_count": 58,
   "metadata": {},
   "outputs": [
    {
     "name": "stdout",
     "output_type": "stream",
     "text": [
      "modelo =  [0, 0, 0, 0, 0, 0, 0, 0, 1]\n"
     ]
    }
   ],
   "source": [
    " # el valor mas minimo  -> 0>=X<=3.14\n",
    "modelo = [0,0,0,0,0,0,0,0,1]\n",
    "long_cromosoma = 9\n",
    "num_poblacion = 20 \n",
    "prob_cruce = 3\n",
    "prob_mutacion = 0.1\n",
    "print(\"modelo = \",modelo)"
   ]
  },
  {
   "cell_type": "code",
   "execution_count": 59,
   "metadata": {},
   "outputs": [
    {
     "name": "stdout",
     "output_type": "stream",
     "text": [
      "el valor mas minimo en decimal: (0, 1)\n"
     ]
    }
   ],
   "source": [
    "def bin_decimal(modelo):\n",
    "    d1 = 2\n",
    "    d2 = 64\n",
    "    parte_entera=0\n",
    "    parte_decim = 0\n",
    "    for i in range(len(modelo)):\n",
    "        if(i<2):\n",
    "            parte_entera = parte_entera + modelo[i]*d1\n",
    "            d1=d1/2\n",
    "        else:\n",
    "            parte_decim = parte_decim + modelo[i]*d2\n",
    "            d2=d2/2\n",
    "            \n",
    "    return round(parte_entera), round(parte_decim)\n",
    "print(\"el valor mas minimo en decimal:\",bin_decimal(modelo))\n",
    "#el valor mas minimo"
   ]
  },
  {
   "cell_type": "code",
   "execution_count": 60,
   "metadata": {},
   "outputs": [
    {
     "name": "stdout",
     "output_type": "stream",
     "text": [
      "[1, 0, 0, 0, 0, 1, 1, 1, 1]\n"
     ]
    }
   ],
   "source": [
    "#creacion de un individuo \n",
    "def individuo (_min, _max):\n",
    "    ind = []\n",
    "    for i in range (long_cromosoma):\n",
    "        ind.append(random.randint(_min, _max))\n",
    "     #controlamos el rango de <= 3.14 en la generacion:  \n",
    "        if i ==2 or i==3 or i==4:\n",
    "            ind[i]=0\n",
    "    return ind\n",
    "a = individuo(0,1)\n",
    "print (a)"
   ]
  },
  {
   "cell_type": "code",
   "execution_count": 61,
   "metadata": {},
   "outputs": [
    {
     "name": "stdout",
     "output_type": "stream",
     "text": [
      "[[1, 0, 0, 0, 0, 1, 1, 1, 0], [0, 0, 0, 0, 0, 1, 1, 1, 0], [1, 0, 0, 0, 0, 1, 0, 0, 1], [1, 1, 0, 0, 0, 0, 1, 0, 0], [0, 0, 0, 0, 0, 1, 1, 0, 1], [0, 1, 0, 0, 0, 0, 0, 0, 1], [0, 1, 0, 0, 0, 1, 1, 1, 1], [0, 1, 0, 0, 0, 0, 0, 1, 1], [0, 0, 0, 0, 0, 1, 0, 1, 1], [0, 0, 0, 0, 0, 1, 0, 0, 0], [0, 1, 0, 0, 0, 1, 0, 1, 1], [0, 1, 0, 0, 0, 0, 0, 0, 0], [0, 1, 0, 0, 0, 1, 1, 1, 1], [0, 0, 0, 0, 0, 0, 0, 0, 1], [1, 0, 0, 0, 0, 0, 0, 0, 0], [1, 1, 0, 0, 0, 1, 1, 0, 0], [0, 1, 0, 0, 0, 0, 1, 1, 1], [0, 0, 0, 0, 0, 0, 1, 0, 0], [1, 0, 0, 0, 0, 0, 0, 1, 0], [0, 0, 0, 0, 0, 0, 1, 0, 0]]\n"
     ]
    }
   ],
   "source": [
    "# generamos conjunto de individuos\n",
    "def genera_poblacion(num):\n",
    "    poblacion = []\n",
    "    for i in range (num):\n",
    "        poblacion.append( individuo(0,1)) \n",
    "    return poblacion\n",
    "\n",
    "poblacion = genera_poblacion(num_poblacion)\n",
    "print(poblacion)"
   ]
  },
  {
   "cell_type": "code",
   "execution_count": 62,
   "metadata": {},
   "outputs": [
    {
     "name": "stdout",
     "output_type": "stream",
     "text": [
      "4\n"
     ]
    }
   ],
   "source": [
    "#realizamos una compraracion la poblacion inicial con el modelo \n",
    "def calcular_fitness(individuo):\n",
    "    \n",
    "    aptitud=0\n",
    "    for i in range( len(individuo) ):\n",
    "        if individuo[i] == modelo [i]:\n",
    "            aptitud +=1\n",
    "    return aptitud\n",
    "print ( calcular_fitness(poblacion[0]) )"
   ]
  },
  {
   "cell_type": "code",
   "execution_count": 63,
   "metadata": {},
   "outputs": [],
   "source": [
    "#seleccion por torneo seleccionamos los que tengan mayor fitness \n",
    "def seleccion_cruce(sobresalientes):\n",
    "    seleccionados = [(calcular_fitness(i),i) for i in sobresalientes]\n",
    "    seleccionados = [i[1] for i in sorted(seleccionados)]\n",
    "    sobresalientes = seleccionados\n",
    "    \n",
    "    seleccion_final = seleccionados [len(seleccionados)-prob_cruce:]\n",
    "    #cruce de un solo punto \n",
    "    for i in range (len(sobresalientes)-prob_cruce):\n",
    "        pivote= random.randint(1, long_cromosoma -1)\n",
    "        padre = random.sample(seleccion_final, 2)\n",
    "        \n",
    "        sobresalientes[i][:pivote] = padre[0][:pivote]\n",
    "        sobresalientes[i][pivote:] = padre[1][pivote:]\n",
    "    return sobresalientes\n",
    "        \n",
    "        \n",
    "    "
   ]
  },
  {
   "cell_type": "code",
   "execution_count": 64,
   "metadata": {},
   "outputs": [],
   "source": [
    "def mutacion (sobresalientes):\n",
    "    for i in range(len(sobresalientes)):\n",
    "        #print (i)\n",
    "        if random.random() <= prob_mutacion:\n",
    "            pivote = random.randint(0,long_cromosoma-1)\n",
    "            nuevo_valor = random.randint(0,1)\n",
    "      \n",
    "            \n",
    "            sobresalientes[i][pivote] = nuevo_valor\n",
    "    return sobresalientes"
   ]
  },
  {
   "cell_type": "code",
   "execution_count": 65,
   "metadata": {
    "scrolled": false
   },
   "outputs": [
    {
     "name": "stdout",
     "output_type": "stream",
     "text": [
      "poblacion inicial:\n",
      "[1, 1, 0, 0, 0, 1, 1, 1, 0]\n",
      "[0, 0, 0, 0, 0, 0, 0, 0, 1]\n",
      "[0, 1, 0, 0, 0, 1, 0, 0, 1]\n",
      "[0, 1, 0, 0, 0, 0, 1, 0, 1]\n",
      "[1, 1, 0, 0, 0, 1, 0, 0, 1]\n",
      "[0, 1, 0, 0, 0, 0, 1, 0, 1]\n",
      "[0, 1, 0, 0, 0, 0, 0, 0, 1]\n",
      "[0, 1, 0, 0, 0, 1, 1, 0, 0]\n",
      "[1, 1, 0, 0, 0, 0, 1, 1, 0]\n",
      "[0, 1, 0, 0, 0, 0, 1, 1, 1]\n",
      "[0, 1, 0, 0, 0, 1, 0, 0, 1]\n",
      "[1, 0, 0, 0, 0, 0, 0, 1, 0]\n",
      "[0, 1, 0, 0, 0, 0, 0, 0, 1]\n",
      "[0, 0, 0, 0, 0, 1, 1, 1, 1]\n",
      "[1, 0, 0, 0, 0, 1, 1, 0, 0]\n",
      "[1, 1, 0, 0, 0, 0, 0, 0, 1]\n",
      "[1, 0, 0, 0, 0, 0, 1, 0, 0]\n",
      "[0, 0, 0, 0, 0, 1, 0, 0, 0]\n",
      "[1, 0, 0, 0, 0, 1, 1, 0, 0]\n",
      "[0, 0, 0, 0, 0, 0, 0, 0, 1]\n",
      "poblacion final: \n",
      "[0, 0, 0, 0, 0, 0, 0, 0, 1]\n",
      "[0, 0, 0, 0, 0, 0, 0, 0, 1]\n",
      "[0, 0, 0, 0, 0, 0, 0, 0, 1]\n",
      "[0, 0, 0, 0, 0, 0, 0, 0, 1]\n",
      "[0, 0, 0, 0, 0, 0, 0, 0, 1]\n",
      "[0, 0, 0, 0, 0, 0, 0, 0, 1]\n",
      "[0, 0, 0, 0, 0, 0, 0, 0, 1]\n",
      "[0, 0, 0, 0, 0, 0, 0, 0, 1]\n",
      "[0, 0, 0, 0, 0, 0, 0, 0, 1]\n",
      "[0, 0, 0, 0, 0, 0, 0, 0, 1]\n",
      "[0, 0, 0, 0, 0, 0, 0, 0, 1]\n",
      "[0, 0, 0, 0, 0, 0, 0, 0, 1]\n",
      "[0, 0, 0, 0, 0, 0, 0, 0, 1]\n",
      "[0, 0, 0, 0, 0, 0, 0, 0, 1]\n",
      "[0, 0, 0, 0, 0, 0, 0, 0, 1]\n",
      "[0, 0, 0, 0, 0, 0, 0, 0, 1]\n",
      "[0, 0, 0, 0, 0, 0, 0, 0, 1]\n",
      "[0, 0, 0, 0, 0, 0, 0, 0, 1]\n",
      "[0, 0, 0, 0, 0, 0, 0, 0, 1]\n",
      "[0, 0, 0, 0, 0, 0, 0, 0, 1]\n",
      "\n",
      "\n",
      "\n"
     ]
    }
   ],
   "source": [
    "sobresalientes = genera_poblacion(num_poblacion)\n",
    "print(\"poblacion inicial:\") \n",
    "for i in range (len(sobresalientes)):\n",
    "    print (sobresalientes[i])\n",
    "\n",
    "#evolucion\n",
    "for i in range (100):\n",
    "    sobresalientes = seleccion_cruce(sobresalientes)\n",
    "    sobresalientes = mutacion(sobresalientes)\n",
    "\n",
    "print (\"poblacion final: \")\n",
    "for i in range (len(sobresalientes)):\n",
    "    print (sobresalientes[i])\n",
    "print(\"\\n\\n\")\n",
    "    "
   ]
  },
  {
   "cell_type": "code",
   "execution_count": 31,
   "metadata": {},
   "outputs": [],
   "source": [
    "#como podemos ver en nuestro resultado casi la mayoria se acerca a mas minimo basandose en un modelo"
   ]
  },
  {
   "cell_type": "code",
   "execution_count": 72,
   "metadata": {},
   "outputs": [
    {
     "name": "stdout",
     "output_type": "stream",
     "text": [
      "1.890000000000000124344978758017532527446746826171875\n"
     ]
    }
   ],
   "source": [
    "from decimal import Decimal\n",
    "x=1.\n",
    "y=0.89\n",
    "print( Decimal(x+y) )"
   ]
  },
  {
   "cell_type": "code",
   "execution_count": null,
   "metadata": {},
   "outputs": [],
   "source": []
  }
 ],
 "metadata": {
  "kernelspec": {
   "display_name": "Python 3",
   "language": "python",
   "name": "python3"
  },
  "language_info": {
   "codemirror_mode": {
    "name": "ipython",
    "version": 3
   },
   "file_extension": ".py",
   "mimetype": "text/x-python",
   "name": "python",
   "nbconvert_exporter": "python",
   "pygments_lexer": "ipython3",
   "version": "3.7.3"
  }
 },
 "nbformat": 4,
 "nbformat_minor": 2
}
